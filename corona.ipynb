{
  "nbformat": 4,
  "nbformat_minor": 0,
  "metadata": {
    "colab": {
      "name": "corona.ipynb",
      "provenance": [],
      "collapsed_sections": [],
      "toc_visible": true,
      "authorship_tag": "ABX9TyMRO75DQxrW6ZSBUMcoZe8Y",
      "include_colab_link": true
    },
    "kernelspec": {
      "name": "python3",
      "display_name": "Python 3"
    }
  },
  "cells": [
    {
      "cell_type": "markdown",
      "metadata": {
        "id": "view-in-github",
        "colab_type": "text"
      },
      "source": [
        "<a href=\"https://colab.research.google.com/github/Mustufain/covid_19_analysis/blob/master/corona.ipynb\" target=\"_parent\"><img src=\"https://colab.research.google.com/assets/colab-badge.svg\" alt=\"Open In Colab\"/></a>"
      ]
    },
    {
      "cell_type": "code",
      "metadata": {
        "id": "2w-OoUQcatt3",
        "colab_type": "code",
        "colab": {}
      },
      "source": [
        "import pandas as pd \n",
        "import matplotlib.pyplot as plt\n",
        "import random\n",
        "import matplotlib.ticker as ticker\n",
        "import matplotlib.animation as animation\n",
        "from IPython.display import HTML\n",
        "from bs4 import BeautifulSoup\n",
        "from datetime import datetime \n",
        "from datetime import date\n",
        "import requests"
      ],
      "execution_count": 0,
      "outputs": []
    },
    {
      "cell_type": "code",
      "metadata": {
        "id": "QQ0BfLlFtsfK",
        "colab_type": "code",
        "colab": {
          "base_uri": "https://localhost:8080/",
          "height": 241
        },
        "outputId": "3373314b-e16f-4085-bed3-2859000a4406"
      },
      "source": [
        "def get_past_data():\n",
        "  url = 'https://raw.githubusercontent.com/Mustufain/COVID-19/master/csse_covid_19_data/csse_covid_19_time_series/time_series_19-covid-Confirmed.csv'\n",
        "  past_data = pd.read_csv(url)\n",
        "  return past_data\n",
        "confirmed = get_past_data()\n",
        "dates = list(confirmed.drop(['Province/State', 'Country/Region', 'Lat', 'Long'], axis=1).columns)\n",
        "confirmed_df = confirmed.groupby(['Country/Region'])[dates].sum(axis=1).reset_index()\n",
        "\n",
        "past_data = pd.melt(confirmed_df, id_vars = ['Country/Region'])\n",
        "past_data = past_data.loc[past_data['Country/Region'].isin(['Pakistan', 'Italy', 'France', 'Spain', 'Iran', 'Germany', 'Korea, South', 'Australia', 'US'])]\n",
        "past_data['variable'] = past_data['variable'].apply(lambda row: datetime.strptime(row,'%m/%d/%y').date())\n",
        "past_data['Country/Region'] = past_data['Country/Region'].apply(lambda row: row.upper())\n",
        "past_data['Country/Region'] = past_data['Country/Region'].apply(lambda row: 'UNITED STATES' if row == 'US' else row) \n",
        "past_data['Country/Region'] = past_data['Country/Region'].apply(lambda row: 'S. KOREA' if row == 'KOREA, SOUTH' else row) \n",
        "\n",
        "\n",
        "color_codes = []\n",
        "total_confirmed_cases = list(past_data.loc[past_data['Country/Region'].isin(\n",
        "    ['PAKISTAN', 'ITALY', 'FRANCE', 'SPAIN', 'IRAN', 'GERMANY', 'S. KOREA', 'AUSTRALIA', 'UNITED STATES'])]['Country/Region'])\n",
        "\n",
        "for i in range(len(total_confirmed_cases)):\n",
        "  random_number = random.randint(0,16777215)\n",
        "  hex_number = str(hex(random_number))  \n",
        "  hex_number ='#'+ hex_number[2:]\n",
        "  color_codes.append(hex_number)\n",
        "\n",
        "colors = dict(zip(\n",
        "    total_confirmed_cases,\n",
        "    color_codes\n",
        "))\n",
        "print (colors)\n",
        "\n",
        "past_data.tail()"
      ],
      "execution_count": 2,
      "outputs": [
        {
          "output_type": "stream",
          "text": [
            "{'AUSTRALIA': '#16db90', 'FRANCE': '#b2a9be', 'GERMANY': '#ce6faf', 'IRAN': '#3827df', 'ITALY': '#391eae', 'S. KOREA': '#75d608', 'PAKISTAN': '#1d2a7b', 'SPAIN': '#376f12', 'UNITED STATES': '#20fc38'}\n"
          ],
          "name": "stdout"
        },
        {
          "output_type": "execute_result",
          "data": {
            "text/html": [
              "<div>\n",
              "<style scoped>\n",
              "    .dataframe tbody tr th:only-of-type {\n",
              "        vertical-align: middle;\n",
              "    }\n",
              "\n",
              "    .dataframe tbody tr th {\n",
              "        vertical-align: top;\n",
              "    }\n",
              "\n",
              "    .dataframe thead th {\n",
              "        text-align: right;\n",
              "    }\n",
              "</style>\n",
              "<table border=\"1\" class=\"dataframe\">\n",
              "  <thead>\n",
              "    <tr style=\"text-align: right;\">\n",
              "      <th></th>\n",
              "      <th>Country/Region</th>\n",
              "      <th>variable</th>\n",
              "      <th>value</th>\n",
              "    </tr>\n",
              "  </thead>\n",
              "  <tbody>\n",
              "    <tr>\n",
              "      <th>9873</th>\n",
              "      <td>ITALY</td>\n",
              "      <td>2020-03-21</td>\n",
              "      <td>53578</td>\n",
              "    </tr>\n",
              "    <tr>\n",
              "      <th>9879</th>\n",
              "      <td>S. KOREA</td>\n",
              "      <td>2020-03-21</td>\n",
              "      <td>8799</td>\n",
              "    </tr>\n",
              "    <tr>\n",
              "      <th>9912</th>\n",
              "      <td>PAKISTAN</td>\n",
              "      <td>2020-03-21</td>\n",
              "      <td>730</td>\n",
              "    </tr>\n",
              "    <tr>\n",
              "      <th>9936</th>\n",
              "      <td>SPAIN</td>\n",
              "      <td>2020-03-21</td>\n",
              "      <td>25374</td>\n",
              "    </tr>\n",
              "    <tr>\n",
              "      <th>9949</th>\n",
              "      <td>UNITED STATES</td>\n",
              "      <td>2020-03-21</td>\n",
              "      <td>25489</td>\n",
              "    </tr>\n",
              "  </tbody>\n",
              "</table>\n",
              "</div>"
            ],
            "text/plain": [
              "     Country/Region    variable  value\n",
              "9873          ITALY  2020-03-21  53578\n",
              "9879       S. KOREA  2020-03-21   8799\n",
              "9912       PAKISTAN  2020-03-21    730\n",
              "9936          SPAIN  2020-03-21  25374\n",
              "9949  UNITED STATES  2020-03-21  25489"
            ]
          },
          "metadata": {
            "tags": []
          },
          "execution_count": 2
        }
      ]
    },
    {
      "cell_type": "code",
      "metadata": {
        "id": "iyGg4rQz5-jU",
        "colab_type": "code",
        "colab": {
          "base_uri": "https://localhost:8080/",
          "height": 204
        },
        "outputId": "e3fde6c8-f717-4803-942d-31554c9694ed"
      },
      "source": [
        "def get_current_data():\n",
        "  response = requests.get('https://docs.google.com/spreadsheets/d/e/2PACX-1vQuDj0R6K85sdtI8I-Tc7RCx8CnIxKUQue0TCUdrFOKDw9G3JRtGhl64laDd3apApEvIJTdPFJ9fEUL/pubhtml?gid=0&single=true')\n",
        "  if response.status_code == 200:\n",
        "    soup = BeautifulSoup(response.content, 'html.parser')\n",
        "    data = []\n",
        "    table = soup.find_all('tr')[2:]\n",
        "    for tags in table:\n",
        "      td = tags.find_all('td')[1:]\n",
        "      data.append([td[0].text, td[1].text, td[2].text, td[3].text])\n",
        "      covid_19 = pd.DataFrame(data, columns=['country', 'confirmed', 'death', 'recover'])\n",
        "    return covid_19\n",
        "current_data = get_current_data()\n",
        "current_data['date'] = date.today()\n",
        "current_data = current_data[['country','date', 'confirmed']]\n",
        "current_data.columns = list(past_data.columns)\n",
        "current_data.head()"
      ],
      "execution_count": 3,
      "outputs": [
        {
          "output_type": "execute_result",
          "data": {
            "text/html": [
              "<div>\n",
              "<style scoped>\n",
              "    .dataframe tbody tr th:only-of-type {\n",
              "        vertical-align: middle;\n",
              "    }\n",
              "\n",
              "    .dataframe tbody tr th {\n",
              "        vertical-align: top;\n",
              "    }\n",
              "\n",
              "    .dataframe thead th {\n",
              "        text-align: right;\n",
              "    }\n",
              "</style>\n",
              "<table border=\"1\" class=\"dataframe\">\n",
              "  <thead>\n",
              "    <tr style=\"text-align: right;\">\n",
              "      <th></th>\n",
              "      <th>Country/Region</th>\n",
              "      <th>variable</th>\n",
              "      <th>value</th>\n",
              "    </tr>\n",
              "  </thead>\n",
              "  <tbody>\n",
              "    <tr>\n",
              "      <th>0</th>\n",
              "      <td>AFGHANISTAN</td>\n",
              "      <td>2020-03-22</td>\n",
              "      <td>40</td>\n",
              "    </tr>\n",
              "    <tr>\n",
              "      <th>1</th>\n",
              "      <td>ALBANIA</td>\n",
              "      <td>2020-03-22</td>\n",
              "      <td>89</td>\n",
              "    </tr>\n",
              "    <tr>\n",
              "      <th>2</th>\n",
              "      <td>ALGERIA</td>\n",
              "      <td>2020-03-22</td>\n",
              "      <td>201</td>\n",
              "    </tr>\n",
              "    <tr>\n",
              "      <th>3</th>\n",
              "      <td>ANGOLA</td>\n",
              "      <td>2020-03-22</td>\n",
              "      <td>2</td>\n",
              "    </tr>\n",
              "    <tr>\n",
              "      <th>4</th>\n",
              "      <td>ANTIGUA AND BARBUDA</td>\n",
              "      <td>2020-03-22</td>\n",
              "      <td>1</td>\n",
              "    </tr>\n",
              "  </tbody>\n",
              "</table>\n",
              "</div>"
            ],
            "text/plain": [
              "        Country/Region    variable value\n",
              "0          AFGHANISTAN  2020-03-22    40\n",
              "1              ALBANIA  2020-03-22    89\n",
              "2              ALGERIA  2020-03-22   201\n",
              "3               ANGOLA  2020-03-22     2\n",
              "4  ANTIGUA AND BARBUDA  2020-03-22     1"
            ]
          },
          "metadata": {
            "tags": []
          },
          "execution_count": 3
        }
      ]
    },
    {
      "cell_type": "code",
      "metadata": {
        "id": "zFVC85Ud9q-r",
        "colab_type": "code",
        "colab": {
          "base_uri": "https://localhost:8080/",
          "height": 204
        },
        "outputId": "5a5f4fbb-03dd-4095-a91f-5e0317611820"
      },
      "source": [
        "covid_19 = pd.concat([past_data, current_data])\n",
        "covid_19 = covid_19.loc[covid_19['Country/Region'].isin(['PAKISTAN', 'ITALY', 'FRANCE', 'SPAIN', 'IRAN', 'GERMANY', \n",
        "                                              'S. KOREA', 'AUSTRALIA', 'UNITED STATES'])]\n",
        "covid_19['value'] = covid_19['value'].astype(int)\n",
        "covid_19.head()\n"
      ],
      "execution_count": 4,
      "outputs": [
        {
          "output_type": "execute_result",
          "data": {
            "text/html": [
              "<div>\n",
              "<style scoped>\n",
              "    .dataframe tbody tr th:only-of-type {\n",
              "        vertical-align: middle;\n",
              "    }\n",
              "\n",
              "    .dataframe tbody tr th {\n",
              "        vertical-align: top;\n",
              "    }\n",
              "\n",
              "    .dataframe thead th {\n",
              "        text-align: right;\n",
              "    }\n",
              "</style>\n",
              "<table border=\"1\" class=\"dataframe\">\n",
              "  <thead>\n",
              "    <tr style=\"text-align: right;\">\n",
              "      <th></th>\n",
              "      <th>Country/Region</th>\n",
              "      <th>variable</th>\n",
              "      <th>value</th>\n",
              "    </tr>\n",
              "  </thead>\n",
              "  <tbody>\n",
              "    <tr>\n",
              "      <th>8</th>\n",
              "      <td>AUSTRALIA</td>\n",
              "      <td>2020-01-22</td>\n",
              "      <td>0</td>\n",
              "    </tr>\n",
              "    <tr>\n",
              "      <th>58</th>\n",
              "      <td>FRANCE</td>\n",
              "      <td>2020-01-22</td>\n",
              "      <td>0</td>\n",
              "    </tr>\n",
              "    <tr>\n",
              "      <th>62</th>\n",
              "      <td>GERMANY</td>\n",
              "      <td>2020-01-22</td>\n",
              "      <td>0</td>\n",
              "    </tr>\n",
              "    <tr>\n",
              "      <th>75</th>\n",
              "      <td>IRAN</td>\n",
              "      <td>2020-01-22</td>\n",
              "      <td>0</td>\n",
              "    </tr>\n",
              "    <tr>\n",
              "      <th>79</th>\n",
              "      <td>ITALY</td>\n",
              "      <td>2020-01-22</td>\n",
              "      <td>0</td>\n",
              "    </tr>\n",
              "  </tbody>\n",
              "</table>\n",
              "</div>"
            ],
            "text/plain": [
              "   Country/Region    variable  value\n",
              "8       AUSTRALIA  2020-01-22      0\n",
              "58         FRANCE  2020-01-22      0\n",
              "62        GERMANY  2020-01-22      0\n",
              "75           IRAN  2020-01-22      0\n",
              "79          ITALY  2020-01-22      0"
            ]
          },
          "metadata": {
            "tags": []
          },
          "execution_count": 4
        }
      ]
    },
    {
      "cell_type": "code",
      "metadata": {
        "id": "XSLWLsgH5avd",
        "colab_type": "code",
        "colab": {}
      },
      "source": [
        "plt.style.use('dark_background')\n",
        "def draw_barchart(day):\n",
        "  df = covid_19.loc[covid_19.variable == day.date()].sort_values(by='value', ascending=True)\n",
        "  ax.clear()\n",
        "  ax.barh(df['Country/Region'], df['value'], color=[colors[x] for x in df['Country/Region']])\n",
        "  for i, (value, name) in enumerate(zip(df['value'], df['Country/Region'])):   \n",
        "      ax.text(value, i,     name,           size=14, weight=600, ha='right', va='bottom')\n",
        "      ax.text(value, i,     f'{float(value):,.0f}',  size=14, ha='left',  va='center')\n",
        "      ax.text(1, 0.4, day.date(), transform=ax.transAxes, color='white', size=46, ha='right', weight=800)\n",
        "      ax.xaxis.set_major_formatter(ticker.StrMethodFormatter('{x:,.0f}'))\n",
        "      ax.xaxis.set_ticks_position('top')\n",
        "      ax.tick_params(axis='x', colors='#777777', labelsize=12)\n",
        "      ax.set_yticks([])\n",
        "      ax.margins(0, 0.01)\n",
        "      ax.grid(which='major', axis='x', linestyle='-')\n",
        "      ax.set_axisbelow(True)\n",
        "      ax.text(0, 1.12, 'Confirmed Covid-19 cases',\n",
        "            transform=ax.transAxes, size=24, weight=600, ha='left')\n",
        "      ax.text(1, 0, 'by @mustufain', transform=ax.transAxes, ha='right',\n",
        "            color='#777777', bbox=dict(facecolor='white', alpha=0.8, edgecolor='white'))\n",
        "      plt.box(False)"
      ],
      "execution_count": 0,
      "outputs": []
    },
    {
      "cell_type": "code",
      "metadata": {
        "id": "QuiZD1ZtIfM_",
        "colab_type": "code",
        "colab": {
          "base_uri": "https://localhost:8080/",
          "height": 539
        },
        "outputId": "0eddedaf-99af-43ab-be2c-78db0a110c4a"
      },
      "source": [
        "import matplotlib.animation as animation\n",
        "from IPython.display import HTML\n",
        "fig, ax = plt.subplots(figsize=(15, 8))\n",
        "dates = pd.date_range(start='2020-01-22', end=date.today(), freq='D').tolist()   \n",
        "animator = animation.FuncAnimation(fig, draw_barchart, frames=dates)"
      ],
      "execution_count": 6,
      "outputs": [
        {
          "output_type": "display_data",
          "data": {
            "image/png": "[encoded data removed]",
            "text/plain": [
              "<Figure size 1080x576 with 1 Axes>"
            ]
          },
          "metadata": {
            "tags": []
          }
        }
      ]
    },
    {
      "cell_type": "code",
      "metadata": {
        "id": "I2Qc5MBDcnMF",
        "colab_type": "code",
        "colab": {
          "base_uri": "https://localhost:8080/",
          "height": 269
        },
        "outputId": "25b17d44-d5f5-4883-b4e1-b886a16493cc"
      },
      "source": [
        "animator.save('covid_19_bar_graph.mp4', fps=2, dpi=80)"
      ],
      "execution_count": 7,
      "outputs": [
        {
          "output_type": "display_data",
          "data": {
            "image/png": "[encoded data removed]",
            "text/plain": [
              "<Figure size 432x288 with 1 Axes>"
            ]
          },
          "metadata": {
            "tags": []
          }
        }
      ]
    },
    {
      "cell_type": "code",
      "metadata": {
        "id": "0VDnKmXq1Qq-",
        "colab_type": "code",
        "colab": {}
      },
      "source": [
        ""
      ],
      "execution_count": 0,
      "outputs": []
    }
  ]
}